{
  "nbformat": 4,
  "nbformat_minor": 0,
  "metadata": {
    "colab": {
      "name": "chapter02_훈련세트와 테스트세트#01.ipynb",
      "provenance": [],
      "authorship_tag": "ABX9TyPYJcADHFnbZePLPdT7uzij",
      "include_colab_link": true
    },
    "kernelspec": {
      "name": "python3",
      "display_name": "Python 3"
    },
    "language_info": {
      "name": "python"
    }
  },
  "cells": [
    {
      "cell_type": "markdown",
      "metadata": {
        "id": "view-in-github",
        "colab_type": "text"
      },
      "source": [
        "<a href=\"https://colab.research.google.com/github/seoeunkong/MachineLearning/blob/main/chapter02_%ED%9B%88%EB%A0%A8%EC%84%B8%ED%8A%B8%EC%99%80_%ED%85%8C%EC%8A%A4%ED%8A%B8%EC%84%B8%ED%8A%B8_01.ipynb\" target=\"_parent\"><img src=\"https://colab.research.google.com/assets/colab-badge.svg\" alt=\"Open In Colab\"/></a>"
      ]
    },
    {
      "cell_type": "code",
      "execution_count": null,
      "metadata": {
        "id": "ffORbzXedMK1"
      },
      "outputs": [],
      "source": [
        "fish_length = [25.4, 26.3, 26.5, 29.0, 29.0, 29.7, 29.7, 30.0, 30.0, 30.7, 31.0, 31.0, 31.5, 32.0, 32.0, 32.0, 33.0, 33.0, 33.5, 33.5, 34.0, 34.0, 34.5, 35.0, 35.0, 35.0, 35.0, 36.0, 36.0, 37.0, 38.5, 38.5, 39.5, 41.0, 41.0, 9.8, 10.5, 10.6, 11.0, 11.2, 11.3, 11.8, 11.8, 12.0, 12.2, 12.4, 13.0, 14.3, 15.0] \n",
        "fish_weight = [242.0, 290.0, 340.0, 363.0, 430.0, 450.0, 500.0, 390.0, 450.0, 500.0, 475.0, 500.0, 500.0, 340.0, 600.0, 600.0, 700.0, 700.0, 610.0, 650.0, 575.0, 685.0, 620.0, 680.0, 700.0, 725.0, 720.0, 714.0, 850.0, 1000.0, 920.0, 955.0, 925.0, 975.0, 950.0, 6.7, 7.5, 7.0, 9.7, 9.8, 8.7, 10.0, 9.9, 9.8, 12.2, 13.4, 12.2, 19.7, 19.9]\n"
      ]
    },
    {
      "cell_type": "code",
      "source": [
        "fish_data = [[l,w] for l, w in zip(fish_length, fish_weight)] \n",
        "fish_target = [1] * 35 + [0] * 14\n"
      ],
      "metadata": {
        "id": "7YfFQBzxgNQ_"
      },
      "execution_count": null,
      "outputs": []
    },
    {
      "cell_type": "code",
      "source": [
        "from sklearn.neighbors import KNeighborsClassifier \n",
        "kn = KNeighborsClassifier()"
      ],
      "metadata": {
        "id": "0CHGvuGWgWZX"
      },
      "execution_count": null,
      "outputs": []
    },
    {
      "cell_type": "code",
      "source": [
        "# 훈련 세트로 입력값 중 0부터 34번째 인덱스까지 사용 \n",
        "train_input = fish_data[:35] \n",
        "# 훈련 세트로 타깃값 중 0부터 34번째 인덱스까지 사용 \n",
        "train_target = fish_target[:35] \n",
        "# 테스트 세트로 입력값 중 35번째부터 마지막 인덱스까지 사용 \n",
        "test_input = fish_data[35:] \n",
        "# 테스트 세트로 타깃값 중 35번째 부터 마지막 인덱스까지 사용 \n",
        "test_target = fish_target[35:]\n",
        "\n",
        "# 인덱스 0~34까지 처음 35개 샘플을 훈련 세트로 선택했고, \n",
        "# 인덱스 35~48까지 나머지 14개 샘플을 테스트 세트로 선택함."
      ],
      "metadata": {
        "id": "Y8Gb4J1jgtmH"
      },
      "execution_count": null,
      "outputs": []
    },
    {
      "cell_type": "code",
      "source": [
        "#훈련 세트로 fit() 메소드를 호출해 모델을 훈련하고, 데스트 세트로 score() 메소드를 호출해 평가\n",
        "\n",
        "kn = kn.fit(train_input, train_target) \n",
        "kn.score(test_input, test_target)\n"
      ],
      "metadata": {
        "colab": {
          "base_uri": "https://localhost:8080/"
        },
        "id": "AZeM2XNThVLf",
        "outputId": "91df02b8-3139-46d6-e957-4aeafdb51429"
      },
      "execution_count": null,
      "outputs": [
        {
          "output_type": "execute_result",
          "data": {
            "text/plain": [
              "0.0"
            ]
          },
          "metadata": {},
          "execution_count": 5
        }
      ]
    }
  ]
}