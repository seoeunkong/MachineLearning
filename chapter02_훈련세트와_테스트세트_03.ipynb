{
  "nbformat": 4,
  "nbformat_minor": 0,
  "metadata": {
    "colab": {
      "name": "chapter02_훈련세트와 테스트세트#03.ipynb",
      "provenance": [],
      "authorship_tag": "ABX9TyMa4IgI/zKQO95trPsGluYG",
      "include_colab_link": true
    },
    "kernelspec": {
      "name": "python3",
      "display_name": "Python 3"
    },
    "language_info": {
      "name": "python"
    }
  },
  "cells": [
    {
      "cell_type": "markdown",
      "metadata": {
        "id": "view-in-github",
        "colab_type": "text"
      },
      "source": [
        "<a href=\"https://colab.research.google.com/github/seoeunkong/MachineLearning/blob/main/chapter02_%ED%9B%88%EB%A0%A8%EC%84%B8%ED%8A%B8%EC%99%80_%ED%85%8C%EC%8A%A4%ED%8A%B8%EC%84%B8%ED%8A%B8_03.ipynb\" target=\"_parent\"><img src=\"https://colab.research.google.com/assets/colab-badge.svg\" alt=\"Open In Colab\"/></a>"
      ]
    },
    {
      "cell_type": "code",
      "execution_count": null,
      "metadata": {
        "id": "yCkuI_bmH5jj"
      },
      "outputs": [],
      "source": [
        "fish_length = [25.4, 26.3, 26.5, 29.0, 29.0, 29.7, 29.7, 30.0, 30.0, 30.7, 31.0, 31.0, 31.5, 32.0, 32.0, 32.0, 33.0, 33.0, 33.5, 33.5, 34.0, 34.0, 34.5, 35.0, 35.0, 35.0, 35.0, 36.0, 36.0, 37.0, 38.5, 38.5, 39.5, 41.0, 41.0, 9.8, 10.5, 10.6, 11.0, 11.2, 11.3, 11.8, 11.8, 12.0, 12.2, 12.4, 13.0, 14.3, 15.0] \n",
        "fish_weight = [242.0, 290.0, 340.0, 363.0, 430.0, 450.0, 500.0, 390.0, 450.0, 500.0, 475.0, 500.0, 500.0, 340.0, 600.0, 600.0, 700.0, 700.0, 610.0, 650.0, 575.0, 685.0, 620.0, 680.0, 700.0, 725.0, 720.0, 714.0, 850.0, 1000.0, 920.0, 955.0, 925.0, 975.0, 950.0, 6.7, 7.5, 7.0, 9.7, 9.8, 8.7, 10.0, 9.9, 9.8, 12.2, 13.4, 12.2, 19.7, 19.9]\n"
      ]
    },
    {
      "cell_type": "code",
      "source": [
        "from sklearn.model_selection import train_test_split"
      ],
      "metadata": {
        "id": "vBDUF8RIKyYX"
      },
      "execution_count": null,
      "outputs": []
    },
    {
      "cell_type": "code",
      "source": [
        "import numpy as np\n",
        "\n",
        "#전달받은 리스트를 일렬로 세운 다음 차례대로 나란히 연결\n",
        "fish_data = np.column_stack((fish_length, fish_weight))\n",
        "#첫 번째 차원을 따라 배열을 연결하는 np.concatenate() 함수를 사용\n",
        "fish_target = np.concatenate((np.ones(35), np.zeros(14)))\n"
      ],
      "metadata": {
        "id": "H_hZGcSHN78F"
      },
      "execution_count": null,
      "outputs": []
    },
    {
      "cell_type": "code",
      "source": [
        "train_input, test_input, train_target, test_target = train_test_split(fish_data, fish_target, stratify=fish_target, random_state=42)"
      ],
      "metadata": {
        "id": "0cDGF_DTOWYm"
      },
      "execution_count": null,
      "outputs": []
    },
    {
      "cell_type": "code",
      "source": [
        "#앞에서 준비했던 데이터로 k-최근접 이웃 알고리즘을 훈련\n",
        "from sklearn.neighbors import KNeighborsClassifier \n",
        "\n",
        "kn = KNeighborsClassifier() \n",
        "kn.fit(train_input,train_target) \n",
        "kn.score(test_input, test_target)\n"
      ],
      "metadata": {
        "colab": {
          "base_uri": "https://localhost:8080/"
        },
        "id": "-qzKq3RCO6My",
        "outputId": "7a7d5226-d92f-40c8-a55f-f5f919d3e63b"
      },
      "execution_count": null,
      "outputs": [
        {
          "output_type": "execute_result",
          "data": {
            "text/plain": [
              "1.0"
            ]
          },
          "metadata": {},
          "execution_count": 6
        }
      ]
    },
    {
      "cell_type": "code",
      "source": [
        "#이 모델에 아까 오류를 일으킨다고 말했던 도미의 데이터를 넣기\n",
        "print(kn.predict([[25,150]]))"
      ],
      "metadata": {
        "colab": {
          "base_uri": "https://localhost:8080/"
        },
        "id": "ncVhEWySPHPu",
        "outputId": "3970e9e6-5bb2-4a37-ae4b-76d570bbe345"
      },
      "execution_count": null,
      "outputs": [
        {
          "output_type": "stream",
          "name": "stdout",
          "text": [
            "[0.]\n"
          ]
        }
      ]
    },
    {
      "cell_type": "code",
      "source": [
        "import matplotlib.pyplot as plt \n",
        "\n",
        "plt.scatter(train_input[:,0], train_input[:,1]) \n",
        "plt.scatter(25,150, marker='^') #marker='^' = 삼각형으로 표시\n",
        "plt.xlabel('length')\n",
        "plt.ylabel('weight') \n",
        "plt.show()\n"
      ],
      "metadata": {
        "colab": {
          "base_uri": "https://localhost:8080/",
          "height": 279
        },
        "id": "gw7ZHcmORFbd",
        "outputId": "3cf719e4-0204-4276-b780-56bfcaa8316d"
      },
      "execution_count": null,
      "outputs": [
        {
          "output_type": "display_data",
          "data": {
            "text/plain": [
              "<Figure size 432x288 with 1 Axes>"
            ],
            "image/png": "[encoded data removed]"
          },
          "metadata": {
            "needs_background": "light"
          }
        }
      ]
    },
    {
      "cell_type": "code",
      "source": [
        "#이웃까지의 거리와 이웃 샘플의 인덱스를 반환\n",
        "distances, indexes = kn.kneighbors([[25,150]])\n",
        "\n",
        "plt.scatter(train_input[:,0], train_input[:,1]) \n",
        "plt.scatter(25,150, marker='^')\n",
        "#indexes 배열을 사용해 훈련 데이터 중에서 이웃 샘플을 따로 구분해 그려보겠다.\n",
        "plt.scatter(train_input[indexes,0], train_input[indexes,1], marker='D') # marker='D'로 지정하면 산점도를 마름모로 그린다. \n",
        "\n",
        "plt.xlabel('length') \n",
        "plt.ylabel('weight') \n",
        "plt.show()\n"
      ],
      "metadata": {
        "colab": {
          "base_uri": "https://localhost:8080/",
          "height": 279
        },
        "id": "F7qBBY6jWCBo",
        "outputId": "2f53ed57-851d-49e5-ebc7-7c91b9e61f06"
      },
      "execution_count": null,
      "outputs": [
        {
          "output_type": "display_data",
          "data": {
            "text/plain": [
              "<Figure size 432x288 with 1 Axes>"
            ],
            "image/png": "[encoded data removed]"
          },
          "metadata": {
            "needs_background": "light"
          }
        }
      ]
    },
    {
      "cell_type": "code",
      "source": [
        "plt.scatter(train_input[:,0], train_input[:,1]) \n",
        "plt.scatter(25,150, marker='^')\n",
        "plt.scatter(train_input[indexes,0], train_input[indexes,1], marker='D') \n",
        "plt.xlim((0,1000)) # 맷플롯립에서 x 축 범위를 지정하는 함수. \n",
        "\n",
        "plt.xlabel('length') \n",
        "plt.ylabel('weight') \n",
        "plt.show()\n",
        "\n"
      ],
      "metadata": {
        "colab": {
          "base_uri": "https://localhost:8080/",
          "height": 279
        },
        "id": "CJW_oPR1dXjL",
        "outputId": "2afbf678-f1c7-49fb-a755-54214c174de9"
      },
      "execution_count": null,
      "outputs": [
        {
          "output_type": "display_data",
          "data": {
            "text/plain": [
              "<Figure size 432x288 with 1 Axes>"
            ],
            "image/png": "[encoded data removed]"
          },
          "metadata": {
            "needs_background": "light"
          }
        }
      ]
    },
    {
      "cell_type": "code",
      "source": [
        "mean = np.mean(train_input, axis=0) # mean() 함수는 평균을 계산한다. \n",
        "std = np.std(train_input, axis=0) # std() 함수는 표준편차를 제공한다.\n",
        "\n",
        "print(mean,std)"
      ],
      "metadata": {
        "colab": {
          "base_uri": "https://localhost:8080/"
        },
        "id": "pyXIJfEyhKJw",
        "outputId": "ca1bbba8-e86c-44e0-b0ed-3f1d12aea71c"
      },
      "execution_count": null,
      "outputs": [
        {
          "output_type": "stream",
          "name": "stdout",
          "text": [
            "[ 27.29722222 454.09722222] [  9.98244253 323.29893931]\n"
          ]
        }
      ]
    },
    {
      "cell_type": "code",
      "source": [
        "train_scaled = (train_input - mean) / std "
      ],
      "metadata": {
        "id": "XEZd3KVdhoU6"
      },
      "execution_count": null,
      "outputs": []
    },
    {
      "cell_type": "code",
      "source": [
        "plt.scatter(train_scaled[:,0], train_scaled[:,1]) \n",
        "plt.scatter(25,150, marker='^') \n",
        "plt.xlabel('length') \n",
        "plt.ylabel('weight') \n",
        "plt.show()\n"
      ],
      "metadata": {
        "colab": {
          "base_uri": "https://localhost:8080/",
          "height": 279
        },
        "id": "EZx6my2ZlhwM",
        "outputId": "390a5559-2b3a-4268-e995-77b6d13bb039"
      },
      "execution_count": null,
      "outputs": [
        {
          "output_type": "display_data",
          "data": {
            "text/plain": [
              "<Figure size 432x288 with 1 Axes>"
            ],
            "image/png": "[encoded data removed]"
          },
          "metadata": {
            "needs_background": "light"
          }
        }
      ]
    },
    {
      "cell_type": "code",
      "source": [
        "#샘플(주황색 삼각형)도 동일한 비율로 전환하기\n",
        "new = ([25,150] - mean) / std \n",
        "\n",
        "plt.scatter(train_scaled[:,0], train_scaled[:,1]) \n",
        "plt.scatter(new[0],new[1], marker='^') \n",
        "\n",
        "plt.xlabel('length') \n",
        "plt.ylabel('weight') \n",
        "plt.show()\n"
      ],
      "metadata": {
        "colab": {
          "base_uri": "https://localhost:8080/",
          "height": 279
        },
        "id": "2VdxkQSJnbKJ",
        "outputId": "ef221334-e3e3-4b71-d2b9-15a67c113e9f"
      },
      "execution_count": null,
      "outputs": [
        {
          "output_type": "display_data",
          "data": {
            "text/plain": [
              "<Figure size 432x288 with 1 Axes>"
            ],
            "image/png": "[encoded data removed]"
          },
          "metadata": {
            "needs_background": "light"
          }
        }
      ]
    },
    {
      "cell_type": "code",
      "source": [
        "kn.fit(train_scaled, train_target) #훈련\n",
        "test_scaled = (test_input - mean) / std # test_input 도 표준점수와 동일한 비율로 바꿔줘야 한다.\n",
        "\n",
        "kn.score(test_scaled, test_target) #평가\n"
      ],
      "metadata": {
        "colab": {
          "base_uri": "https://localhost:8080/"
        },
        "id": "GQy8mPBfpTeR",
        "outputId": "97a5515d-99de-4efc-c5d2-336261fa9855"
      },
      "execution_count": null,
      "outputs": [
        {
          "output_type": "execute_result",
          "data": {
            "text/plain": [
              "1.0"
            ]
          },
          "metadata": {},
          "execution_count": 19
        }
      ]
    },
    {
      "cell_type": "code",
      "source": [
        "print(kn.predict([new])) #수상한 생선을 다시 평가하면 도미로 알맞게 나옴!"
      ],
      "metadata": {
        "colab": {
          "base_uri": "https://localhost:8080/"
        },
        "id": "C0m_aW55scuq",
        "outputId": "151ee203-9412-43c1-e34f-6816883a16e0"
      },
      "execution_count": null,
      "outputs": [
        {
          "output_type": "stream",
          "name": "stdout",
          "text": [
            "[1.]\n"
          ]
        }
      ]
    },
    {
      "cell_type": "code",
      "source": [
        "#산점도 다시 출력\n",
        "plt.scatter(train_scaled[:,0], train_scaled[:,1]) \n",
        "plt.scatter(new[0], new[1], marker='^') \n",
        "plt.scatter(train_scaled[indexes,0], train_scaled[indexes,1], marker='D') \n",
        "\n",
        "plt.xlabel('length') \n",
        "plt.ylabel('weight') \n",
        "plt.show()\n",
        "\n"
      ],
      "metadata": {
        "colab": {
          "base_uri": "https://localhost:8080/",
          "height": 279
        },
        "id": "vX26UJ2utP63",
        "outputId": "c0d3510d-3a0a-46cd-b498-93c11f488518"
      },
      "execution_count": null,
      "outputs": [
        {
          "output_type": "display_data",
          "data": {
            "text/plain": [
              "<Figure size 432x288 with 1 Axes>"
            ],
            "image/png": "[encoded data removed]"
          },
          "metadata": {
            "needs_background": "light"
          }
        }
      ]
    }
  ]
}